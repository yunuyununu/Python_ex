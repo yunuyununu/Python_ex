{
 "cells": [
  {
   "cell_type": "code",
   "execution_count": 1,
   "metadata": {},
   "outputs": [
    {
     "name": "stdout",
     "output_type": "stream",
     "text": [
      "Downloading data from https://storage.googleapis.com/tensorflow/tf-keras-datasets/mnist.npz\n",
      "11490434/11490434 [==============================] - 1s 0us/step\n"
     ]
    }
   ],
   "source": [
    "from keras.datasets import mnist\n",
    "\n",
    "(X_train, y_train), (X_test, y_test) = mnist.load_data()"
   ]
  },
  {
   "cell_type": "code",
   "execution_count": 2,
   "metadata": {},
   "outputs": [],
   "source": [
    "X_train= X_train.reshape(-1,784)\n",
    "\n",
    "X_test= X_test.reshape(-1,784)\n",
    "\n",
    "X_train=X_train/255.\n",
    "\n",
    "X_test=X_test/255."
   ]
  },
  {
   "cell_type": "code",
   "execution_count": 5,
   "metadata": {},
   "outputs": [
    {
     "data": {
      "image/png": "[encoded data removed]",
      "text/plain": [
       "<Figure size 640x480 with 1 Axes>"
      ]
     },
     "metadata": {},
     "output_type": "display_data"
    }
   ],
   "source": [
    "import matplotlib.pyplot as plt\n",
    "\n",
    "from matplotlib import cm\n",
    "\n",
    "plt.imshow(X_train[0].reshape(28,28),cmap=cm.gray_r)\n",
    "\n",
    "plt.show()"
   ]
  },
  {
   "cell_type": "code",
   "execution_count": 6,
   "metadata": {},
   "outputs": [
    {
     "name": "stdout",
     "output_type": "stream",
     "text": [
      "torch.Size([60000, 784])\n",
      "torch.Size([60000])\n"
     ]
    }
   ],
   "source": [
    "import torch\n",
    "\n",
    "# 학습용 데이터 텐서 변환\n",
    "\n",
    "# from_numpy() 넘파이배열을 텐서로 변환\n",
    "\n",
    "X_train = torch.from_numpy(X_train).float()\n",
    "\n",
    "y_train = torch.from_numpy(y_train.astype('int32')).long()\n",
    "\n",
    "# 검증용 데이터 텐서 변환\n",
    "\n",
    "X_test = torch.from_numpy(X_test).float()\n",
    "\n",
    "y_test = torch.from_numpy(y_test.astype('int32')).long()\n",
    "\n",
    "# 변환된 텐서의 샘플수 확인\n",
    "\n",
    "print(X_train.shape)\n",
    "\n",
    "print(y_train.shape)"
   ]
  },
  {
   "cell_type": "code",
   "execution_count": 7,
   "metadata": {},
   "outputs": [],
   "source": [
    "from torch.utils.data import DataLoader, TensorDataset\n",
    "\n",
    "# 독립변수와 종속변수 텐서를 합침\n",
    "\n",
    "train = TensorDataset(X_train, y_train)\n",
    "\n",
    "# 미니배치 분할\n",
    "\n",
    "train_loader = DataLoader(train, batch_size=100, shuffle=True)"
   ]
  },
  {
   "cell_type": "code",
   "execution_count": 8,
   "metadata": {},
   "outputs": [],
   "source": [
    "import torch.nn as nn\n",
    "\n",
    "class Net(nn.Module):\n",
    "\n",
    "    def __init__(self):\n",
    "\n",
    "        super(Net, self).__init__()\n",
    "\n",
    "        self.fc1 = nn.Linear(784, 256)\n",
    "\n",
    "        self.fc2 = nn.Linear(256, 256)\n",
    "\n",
    "        self.fc3 = nn.Linear(256, 256)\n",
    "\n",
    "        self.fc4 = nn.Linear(256, 128)\n",
    "\n",
    "        self.fc5 = nn.Linear(128, 128)\n",
    "\n",
    "        self.fc6 = nn.Linear(128, 10)\n",
    "\n",
    "    def forward(self, x):\n",
    "\n",
    "        x = F.relu(self.fc1(x))\n",
    "\n",
    "        x = F.relu(self.fc2(x))\n",
    "\n",
    "        x = F.relu(self.fc3(x))\n",
    "\n",
    "        x = F.relu(self.fc4(x))\n",
    "\n",
    "        x = F.relu(self.fc5(x))\n",
    "\n",
    "        x = self.fc6(x)\n",
    "\n",
    "        return F.log_softmax(x,dim=0)\n",
    "\n",
    "model = Net()"
   ]
  },
  {
   "cell_type": "code",
   "execution_count": 10,
   "metadata": {},
   "outputs": [
    {
     "name": "stdout",
     "output_type": "stream",
     "text": [
      "10 tensor(291.0191)\n",
      "20 tensor(82.9609)\n",
      "30 tensor(41.9626)\n",
      "40 tensor(22.0015)\n",
      "50 tensor(11.2072)\n",
      "60 tensor(5.9252)\n",
      "70 tensor(2.8104)\n",
      "80 tensor(2.2575)\n",
      "90 tensor(1.3720)\n",
      "100 tensor(0.6577)\n"
     ]
    }
   ],
   "source": [
    "import torch.nn.functional as F\n",
    "\n",
    "import torch.optim as optim\n",
    "\n",
    "# 손실함수\n",
    "\n",
    "criterion = nn.CrossEntropyLoss()\n",
    "\n",
    "# 최적화함수\n",
    "\n",
    "optimizer = optim.SGD(model.parameters(), lr=0.01)\n",
    "\n",
    "for epoch in range(100):\n",
    "\n",
    "    total_loss = 0\n",
    "\n",
    "    for X_train, y_train in train_loader:\n",
    "\n",
    "        #X_train=X_train.cuda()\n",
    "\n",
    "        #y_train=y_train.cuda()  \n",
    "\n",
    "        # 경사 초기화\n",
    "\n",
    "        optimizer.zero_grad()\n",
    "\n",
    "        # 순전파 계산\n",
    "\n",
    "        output = model(X_train)\n",
    "\n",
    "        # 오차계산\n",
    "\n",
    "        loss = criterion(output, y_train)\n",
    "\n",
    "        # 역전파 계산\n",
    "\n",
    "        loss.backward()\n",
    "\n",
    "        # 가중치 업데이트\n",
    "\n",
    "        optimizer.step()\n",
    "\n",
    "        # 누적 오차 계산\n",
    "\n",
    "        total_loss += loss.data\n",
    "\n",
    "    # 10회 반복마다 누적오차 출력\n",
    "\n",
    "    if (epoch+1) % 10 == 0:\n",
    "\n",
    "        print(epoch+1, total_loss)"
   ]
  },
  {
   "cell_type": "code",
   "execution_count": 11,
   "metadata": {},
   "outputs": [
    {
     "name": "stdout",
     "output_type": "stream",
     "text": [
      "tensor([7, 2, 1, 0, 4])\n",
      "[7 2 1 0 4]\n"
     ]
    },
    {
     "data": {
      "text/plain": [
       "0.9765"
      ]
     },
     "execution_count": 11,
     "metadata": {},
     "output_type": "execute_result"
    }
   ],
   "source": [
    "result = torch.max(model(X_test).data, 1)[1]\n",
    "\n",
    "y_test=y_test.cpu()\n",
    "\n",
    "result=result.cpu()\n",
    "\n",
    "print(result[:5]) # 출력값\n",
    "\n",
    "print(y_test.data.numpy()[:5]) #실제값\n",
    "\n",
    "# 모형의 정확도 측정\n",
    "\n",
    "accuracy = sum(y_test.data.numpy() == result.numpy()) / len(y_test.data.numpy())\n",
    "\n",
    "# 모형의 정확도 출력\n",
    "\n",
    "accuracy"
   ]
  },
  {
   "cell_type": "code",
   "execution_count": 12,
   "metadata": {},
   "outputs": [
    {
     "name": "stdout",
     "output_type": "stream",
     "text": [
      "Net(\n",
      "  (fc1): Linear(in_features=784, out_features=256, bias=True)\n",
      "  (fc2): Linear(in_features=256, out_features=256, bias=True)\n",
      "  (fc3): Linear(in_features=256, out_features=256, bias=True)\n",
      "  (fc4): Linear(in_features=256, out_features=128, bias=True)\n",
      "  (fc5): Linear(in_features=128, out_features=128, bias=True)\n",
      "  (fc6): Linear(in_features=128, out_features=10, bias=True)\n",
      ")\n"
     ]
    }
   ],
   "source": [
    "print(model)"
   ]
  },
  {
   "cell_type": "code",
   "execution_count": 13,
   "metadata": {},
   "outputs": [
    {
     "data": {
      "text/plain": [
       "==========================================================================================\n",
       "Layer (type:depth-idx)                   Output Shape              Param #\n",
       "==========================================================================================\n",
       "Net                                      [100, 10]                 --\n",
       "├─Linear: 1-1                            [100, 256]                200,960\n",
       "├─Linear: 1-2                            [100, 256]                65,792\n",
       "├─Linear: 1-3                            [100, 256]                65,792\n",
       "├─Linear: 1-4                            [100, 128]                32,896\n",
       "├─Linear: 1-5                            [100, 128]                16,512\n",
       "├─Linear: 1-6                            [100, 10]                 1,290\n",
       "==========================================================================================\n",
       "Total params: 383,242\n",
       "Trainable params: 383,242\n",
       "Non-trainable params: 0\n",
       "Total mult-adds (M): 38.32\n",
       "==========================================================================================\n",
       "Input size (MB): 0.31\n",
       "Forward/backward pass size (MB): 0.83\n",
       "Params size (MB): 1.53\n",
       "Estimated Total Size (MB): 2.67\n",
       "=========================================================================================="
      ]
     },
     "execution_count": 13,
     "metadata": {},
     "output_type": "execute_result"
    }
   ],
   "source": [
    "from torchinfo import summary\n",
    "\n",
    "batch_size=100\n",
    "\n",
    "# batch_size, input nodes\n",
    "\n",
    "summary(model, input_size=(batch_size, 784))"
   ]
  }
 ],
 "metadata": {
  "kernelspec": {
   "display_name": "Python 3",
   "language": "python",
   "name": "python3"
  },
  "language_info": {
   "codemirror_mode": {
    "name": "ipython",
    "version": 3
   },
   "file_extension": ".py",
   "mimetype": "text/x-python",
   "name": "python",
   "nbconvert_exporter": "python",
   "pygments_lexer": "ipython3",
   "version": "3.9.13"
  }
 },
 "nbformat": 4,
 "nbformat_minor": 2
}
