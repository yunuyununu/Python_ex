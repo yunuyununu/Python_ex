{
 "cells": [
  {
   "cell_type": "code",
   "execution_count": 1,
   "metadata": {},
   "outputs": [
    {
     "name": "stdout",
     "output_type": "stream",
     "text": [
      "[[5.1 3.5 1.4 0.2]\n",
      " [4.9 3.  1.4 0.2]\n",
      " [4.7 3.2 1.3 0.2]\n",
      " [4.6 3.1 1.5 0.2]\n",
      " [5.  3.6 1.4 0.2]]\n",
      "[0 0 0 0 0]\n"
     ]
    }
   ],
   "source": [
    "from sklearn.datasets import load_iris\n",
    "\n",
    "# iris 데이터셋 로딩\n",
    "\n",
    "X, y = load_iris(return_X_y=True)\n",
    "\n",
    "print(X[:5])\n",
    "\n",
    "print(y[:5])"
   ]
  },
  {
   "cell_type": "code",
   "execution_count": 2,
   "metadata": {},
   "outputs": [
    {
     "name": "stdout",
     "output_type": "stream",
     "text": [
      "120\n"
     ]
    }
   ],
   "source": [
    "from sklearn.model_selection import train_test_split\n",
    "\n",
    "X_train,X_test, y_train, y_test = train_test_split( X, y, random_state=10, test_size=0.2, stratify=y, shuffle=True )\n",
    "\n",
    "print(len(X_train))    "
   ]
  },
  {
   "cell_type": "code",
   "execution_count": 3,
   "metadata": {},
   "outputs": [],
   "source": [
    "from torch import nn\n",
    "\n",
    "import torch.nn.functional as F\n",
    "\n",
    "#신경망 모형\n",
    "\n",
    "class Model(nn.Module):\n",
    "\n",
    "    def __init__(self, input_dim):\n",
    "\n",
    "        super(Model, self).__init__()\n",
    "\n",
    "        #input layer, Linear 선형함수(1차함수)\n",
    "\n",
    "        #input nodes, output nodes 50\n",
    "\n",
    "        self.layer1 = nn.Linear(input_dim,50) \n",
    "\n",
    "        self.layer2 = nn.Linear(50, 20)\n",
    "\n",
    "        self.layer3 = nn.Linear(20, 3)\n",
    "\n",
    "        \n",
    "\n",
    "    def forward(self, x):\n",
    "\n",
    "        x = F.relu(self.layer1(x))\n",
    "\n",
    "        x = F.relu(self.layer2(x))\n",
    "\n",
    "        # 출력층의 활성화함수 - 소프트맥스\n",
    "\n",
    "        # dim=0 첫번째 차원(row), row 단위로 softmax 적용\n",
    "\n",
    "        x = F.softmax(self.layer3(x), dim=0) \n",
    "\n",
    "        return x"
   ]
  },
  {
   "cell_type": "code",
   "execution_count": 4,
   "metadata": {},
   "outputs": [],
   "source": [
    "import torch\n",
    "\n",
    "model = Model(X_train.shape[1]) # 초기화함수의 input_dim으로 변수개수가 전달됨\n",
    "\n",
    "optimizer = torch.optim.Adam(model.parameters(), lr=0.01) # 최적화함수 정의\n",
    "\n",
    "loss_fn = nn.CrossEntropyLoss() #손실함수 정의\n",
    "\n",
    "epochs = 100"
   ]
  },
  {
   "cell_type": "code",
   "execution_count": 5,
   "metadata": {},
   "outputs": [
    {
     "name": "stdout",
     "output_type": "stream",
     "text": [
      "Epoch 1\n",
      "loss: 1.0991902351379395\n",
      "Epoch 2\n",
      "loss: 1.0980581045150757\n",
      "Epoch 3\n",
      "loss: 1.0969196557998657\n",
      "Epoch 4\n",
      "loss: 1.0958075523376465\n",
      "Epoch 5\n",
      "loss: 1.0946269035339355\n",
      "Epoch 6\n",
      "loss: 1.0932918787002563\n",
      "Epoch 7\n",
      "loss: 1.0920765399932861\n",
      "Epoch 8\n",
      "loss: 1.0910731554031372\n",
      "Epoch 9\n",
      "loss: 1.0902495384216309\n",
      "Epoch 10\n",
      "loss: 1.0895804166793823\n",
      "Epoch 11\n",
      "loss: 1.0890103578567505\n",
      "Epoch 12\n",
      "loss: 1.088532567024231\n",
      "Epoch 13\n",
      "loss: 1.088114857673645\n",
      "Epoch 14\n",
      "loss: 1.0877271890640259\n",
      "Epoch 15\n",
      "loss: 1.0873595476150513\n",
      "Epoch 16\n",
      "loss: 1.0870139598846436\n",
      "Epoch 17\n",
      "loss: 1.086696982383728\n",
      "Epoch 18\n",
      "loss: 1.0864129066467285\n",
      "Epoch 19\n",
      "loss: 1.086151361465454\n",
      "Epoch 20\n",
      "loss: 1.0859078168869019\n",
      "Epoch 21\n",
      "loss: 1.0856553316116333\n",
      "Epoch 22\n",
      "loss: 1.0853869915008545\n",
      "Epoch 23\n",
      "loss: 1.0851410627365112\n",
      "Epoch 24\n",
      "loss: 1.0848994255065918\n",
      "Epoch 25\n",
      "loss: 1.084592342376709\n",
      "Epoch 26\n",
      "loss: 1.084293007850647\n",
      "Epoch 27\n",
      "loss: 1.0840251445770264\n",
      "Epoch 28\n",
      "loss: 1.0837804079055786\n",
      "Epoch 29\n",
      "loss: 1.0835596323013306\n",
      "Epoch 30\n",
      "loss: 1.0833607912063599\n",
      "Epoch 31\n",
      "loss: 1.0831866264343262\n",
      "Epoch 32\n",
      "loss: 1.083035945892334\n",
      "Epoch 33\n",
      "loss: 1.0829061269760132\n",
      "Epoch 34\n",
      "loss: 1.0827943086624146\n",
      "Epoch 35\n",
      "loss: 1.0827008485794067\n",
      "Epoch 36\n",
      "loss: 1.082622766494751\n",
      "Epoch 37\n",
      "loss: 1.0825546979904175\n",
      "Epoch 38\n",
      "loss: 1.0824840068817139\n",
      "Epoch 39\n",
      "loss: 1.0824397802352905\n",
      "Epoch 40\n",
      "loss: 1.082405686378479\n",
      "Epoch 41\n",
      "loss: 1.0823770761489868\n",
      "Epoch 42\n",
      "loss: 1.0823529958724976\n",
      "Epoch 43\n",
      "loss: 1.0823317766189575\n",
      "Epoch 44\n",
      "loss: 1.082312822341919\n",
      "Epoch 45\n",
      "loss: 1.0822949409484863\n",
      "Epoch 46\n",
      "loss: 1.0822780132293701\n",
      "Epoch 47\n",
      "loss: 1.0822608470916748\n",
      "Epoch 48\n",
      "loss: 1.0822495222091675\n",
      "Epoch 49\n",
      "loss: 1.0822396278381348\n",
      "Epoch 50\n",
      "loss: 1.0822309255599976\n",
      "Epoch 51\n",
      "loss: 1.0822231769561768\n",
      "Epoch 52\n",
      "loss: 1.0822166204452515\n",
      "Epoch 53\n",
      "loss: 1.0822107791900635\n",
      "Epoch 54\n",
      "loss: 1.0822056531906128\n",
      "Epoch 55\n",
      "loss: 1.0822017192840576\n",
      "Epoch 56\n",
      "loss: 1.0821983814239502\n",
      "Epoch 57\n",
      "loss: 1.0821952819824219\n",
      "Epoch 58\n",
      "loss: 1.0821927785873413\n",
      "Epoch 59\n",
      "loss: 1.082190752029419\n",
      "Epoch 60\n",
      "loss: 1.0821889638900757\n",
      "Epoch 61\n",
      "loss: 1.0821876525878906\n",
      "Epoch 62\n",
      "loss: 1.0821865797042847\n",
      "Epoch 63\n",
      "loss: 1.0821858644485474\n",
      "Epoch 64\n",
      "loss: 1.0821853876113892\n",
      "Epoch 65\n",
      "loss: 1.082184910774231\n",
      "Epoch 66\n",
      "loss: 1.0821844339370728\n",
      "Epoch 67\n",
      "loss: 1.0821837186813354\n",
      "Epoch 68\n",
      "loss: 1.0821831226348877\n",
      "Epoch 69\n",
      "loss: 1.08218252658844\n",
      "Epoch 70\n",
      "loss: 1.0821815729141235\n",
      "Epoch 71\n",
      "loss: 1.0821808576583862\n",
      "Epoch 72\n",
      "loss: 1.0821800231933594\n",
      "Epoch 73\n",
      "loss: 1.0821788311004639\n",
      "Epoch 74\n",
      "loss: 1.082177758216858\n",
      "Epoch 75\n",
      "loss: 1.0821765661239624\n",
      "Epoch 76\n",
      "loss: 1.082175612449646\n",
      "Epoch 77\n",
      "loss: 1.082174301147461\n",
      "Epoch 78\n",
      "loss: 1.0821735858917236\n",
      "Epoch 79\n",
      "loss: 1.0821725130081177\n",
      "Epoch 80\n",
      "loss: 1.0821717977523804\n",
      "Epoch 81\n",
      "loss: 1.0821709632873535\n",
      "Epoch 82\n",
      "loss: 1.0821702480316162\n",
      "Epoch 83\n",
      "loss: 1.0821694135665894\n",
      "Epoch 84\n",
      "loss: 1.0821689367294312\n",
      "Epoch 85\n",
      "loss: 1.0821681022644043\n",
      "Epoch 86\n",
      "loss: 1.082167387008667\n",
      "Epoch 87\n",
      "loss: 1.0821666717529297\n",
      "Epoch 88\n",
      "loss: 1.082166075706482\n",
      "Epoch 89\n",
      "loss: 1.0821653604507446\n",
      "Epoch 90\n",
      "loss: 1.0821646451950073\n",
      "Epoch 91\n",
      "loss: 1.0821640491485596\n",
      "Epoch 92\n",
      "loss: 1.0821634531021118\n",
      "Epoch 93\n",
      "loss: 1.082162618637085\n",
      "Epoch 94\n",
      "loss: 1.0821621417999268\n",
      "Epoch 95\n",
      "loss: 1.082161545753479\n",
      "Epoch 96\n",
      "loss: 1.0821610689163208\n",
      "Epoch 97\n",
      "loss: 1.0821605920791626\n",
      "Epoch 98\n",
      "loss: 1.0821601152420044\n",
      "Epoch 99\n",
      "loss: 1.0821597576141357\n",
      "Epoch 100\n",
      "loss: 1.082159161567688\n"
     ]
    }
   ],
   "source": [
    "#넘파이배열로부터 텐서를 만들고\n",
    "\n",
    "X_train = torch.from_numpy(X_train).float()\n",
    "\n",
    "y_train = torch.from_numpy(y_train).long()\n",
    "\n",
    "for epoch in range(1, epochs+1):\n",
    "\n",
    "    print(\"Epoch\",epoch)\n",
    "\n",
    "    #예측값\n",
    "\n",
    "    y_pred = model(X_train)\n",
    "\n",
    "    #손실함수에 예측값과 실제값을 입력\n",
    "\n",
    "    loss = loss_fn(y_pred, y_train)\n",
    "\n",
    "    print('loss:',loss.item())\n",
    "\n",
    "    \n",
    "\n",
    "    # 경사 초기화\n",
    "\n",
    "    optimizer.zero_grad()\n",
    "\n",
    "    loss.backward() # 역전파\n",
    "\n",
    "    optimizer.step() # 가중치 업데이트"
   ]
  },
  {
   "cell_type": "code",
   "execution_count": 6,
   "metadata": {},
   "outputs": [
    {
     "data": {
      "text/plain": [
       "tensor([[3.7603e-06, 9.5983e-03, 4.2833e-04],\n",
       "        [6.0092e-02, 5.5357e-06, 1.8325e-11],\n",
       "        [9.7753e-07, 1.3768e-03, 1.9454e-03],\n",
       "        [5.4961e-07, 6.4683e-04, 3.0019e-03],\n",
       "        [9.5056e-05, 2.5962e-01, 5.3586e-06]], grad_fn=<SliceBackward0>)"
      ]
     },
     "execution_count": 6,
     "metadata": {},
     "output_type": "execute_result"
    }
   ],
   "source": [
    "# Prediction\n",
    "\n",
    "X_test = torch.from_numpy(X_test).float()\n",
    "\n",
    "pred = model(X_test)\n",
    "\n",
    "pred[:5]"
   ]
  },
  {
   "cell_type": "code",
   "execution_count": 7,
   "metadata": {},
   "outputs": [
    {
     "data": {
      "text/plain": [
       "array([1, 0, 2, 2, 1, 2, 0, 2, 2, 0, 0, 1, 2, 2, 1, 0, 0, 1, 2, 0, 2, 2,\n",
       "       2, 0, 0, 1, 1, 0, 1, 1], dtype=int64)"
      ]
     },
     "execution_count": 7,
     "metadata": {},
     "output_type": "execute_result"
    }
   ],
   "source": [
    "import numpy as np\n",
    "\n",
    "np.argmax(pred.data.numpy(), axis=1)"
   ]
  },
  {
   "cell_type": "code",
   "execution_count": null,
   "metadata": {},
   "outputs": [],
   "source": []
  },
  {
   "cell_type": "code",
   "execution_count": 9,
   "metadata": {},
   "outputs": [
    {
     "data": {
      "text/plain": [
       "0.9666666666666667"
      ]
     },
     "execution_count": 9,
     "metadata": {},
     "output_type": "execute_result"
    }
   ],
   "source": [
    "from sklearn.metrics import accuracy_score\n",
    "\n",
    "# 모형의 정확도 측정\n",
    "\n",
    "accuracy_score(y_test, np.argmax(pred.data.numpy(), axis=1))\n"
   ]
  },
  {
   "cell_type": "code",
   "execution_count": 11,
   "metadata": {},
   "outputs": [],
   "source": [
    "torch.save(model, \"c:/data/iris/iris-torch.h5\")"
   ]
  },
  {
   "cell_type": "code",
   "execution_count": 12,
   "metadata": {},
   "outputs": [
    {
     "data": {
      "text/plain": [
       "2"
      ]
     },
     "execution_count": 12,
     "metadata": {},
     "output_type": "execute_result"
    }
   ],
   "source": [
    "model2 = torch.load(\"c:/data/iris/iris-torch.h5\")\n",
    "\n",
    "np.argmax(model2(X_test[0]).data.numpy())"
   ]
  },
  {
   "cell_type": "code",
   "execution_count": 14,
   "metadata": {},
   "outputs": [
    {
     "data": {
      "text/plain": [
       "==========================================================================================\n",
       "Layer (type:depth-idx)                   Output Shape              Param #\n",
       "==========================================================================================\n",
       "Model                                    [32, 3]                   --\n",
       "├─Linear: 1-1                            [32, 50]                  250\n",
       "├─Linear: 1-2                            [32, 20]                  1,020\n",
       "├─Linear: 1-3                            [32, 3]                   63\n",
       "==========================================================================================\n",
       "Total params: 1,333\n",
       "Trainable params: 1,333\n",
       "Non-trainable params: 0\n",
       "Total mult-adds (M): 0.04\n",
       "==========================================================================================\n",
       "Input size (MB): 0.00\n",
       "Forward/backward pass size (MB): 0.02\n",
       "Params size (MB): 0.01\n",
       "Estimated Total Size (MB): 0.02\n",
       "=========================================================================================="
      ]
     },
     "execution_count": 14,
     "metadata": {},
     "output_type": "execute_result"
    }
   ],
   "source": [
    "#pip install torchinfo\n",
    "\n",
    "from torchinfo import summary\n",
    "\n",
    "summary(model)\n",
    "\n",
    "# input_size=(batch size, input nodes)\n",
    "\n",
    "summary(model, input_size=(32, 4))"
   ]
  }
 ],
 "metadata": {
  "kernelspec": {
   "display_name": "Python 3",
   "language": "python",
   "name": "python3"
  },
  "language_info": {
   "codemirror_mode": {
    "name": "ipython",
    "version": 3
   },
   "file_extension": ".py",
   "mimetype": "text/x-python",
   "name": "python",
   "nbconvert_exporter": "python",
   "pygments_lexer": "ipython3",
   "version": "3.9.13"
  }
 },
 "nbformat": 4,
 "nbformat_minor": 2
}
