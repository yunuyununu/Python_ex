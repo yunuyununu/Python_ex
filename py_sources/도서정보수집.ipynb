{
 "cells": [
  {
   "cell_type": "code",
   "execution_count": 2,
   "metadata": {},
   "outputs": [],
   "source": [
    "from urllib.request import urlopen\n",
    "\n",
    "from bs4 import BeautifulSoup\n",
    "\n",
    "from urllib import parse\n",
    "\n",
    "book_name='자바'\n",
    "\n",
    "book_name=parse.quote(book_name)\n",
    "\n",
    "html=urlopen('https://search.kyobobook.co.kr/search?keyword='+book_name+'&gbCode=TOT&target=kyobo')\n",
    "\n",
    "bs=BeautifulSoup(html,'html.parser')"
   ]
  },
  {
   "cell_type": "code",
   "execution_count": 5,
   "metadata": {},
   "outputs": [
    {
     "name": "stdout",
     "output_type": "stream",
     "text": [
      "https://search.kyobobook.co.kr/search?keyword=%EC%9E%90%EB%B0%94&gbCode=TOT&target=kyobo&page=1\n",
      "https://search.kyobobook.co.kr/search?keyword=%EC%9E%90%EB%B0%94&gbCode=TOT&target=kyobo&page=2\n",
      "https://search.kyobobook.co.kr/search?keyword=%EC%9E%90%EB%B0%94&gbCode=TOT&target=kyobo&page=3\n",
      "https://search.kyobobook.co.kr/search?keyword=%EC%9E%90%EB%B0%94&gbCode=TOT&target=kyobo&page=4\n",
      "https://search.kyobobook.co.kr/search?keyword=%EC%9E%90%EB%B0%94&gbCode=TOT&target=kyobo&page=5\n"
     ]
    }
   ],
   "source": [
    "new_titles=[]\n",
    "\n",
    "new_authors=[]\n",
    "\n",
    "new_price=[]\n",
    "\n",
    "for i in range(1,6):\n",
    "\n",
    "    html=urlopen('https://search.kyobobook.co.kr/search?keyword='+book_name+'&gbCode=TOT&target=kyobo&page='+str(i))\n",
    "\n",
    "    print('https://search.kyobobook.co.kr/search?keyword='+book_name+'&gbCode=TOT&target=kyobo&page='+str(i))\n",
    "\n",
    "    bs=BeautifulSoup(html,'html.parser')\n",
    "\n",
    "    titles=bs.select('#shopData_list > ul > li > div.prod_area.horizontal > div.prod_info_box > div.auto_overflow_wrap.prod_name_group > div.auto_overflow_contents > div > a > span')\n",
    "\n",
    "    for title in titles:\n",
    "         if title.text=='[국내도서]' or title.text=='예약판매':\n",
    "            continue\n",
    "    new_titles.append(title.text)\n",
    "\n",
    "    authors=bs.select('#shopData_list > ul > li > div.prod_area.horizontal > div.prod_info_box > div.prod_author_info > div.auto_overflow_wrap.prod_author_group > div.auto_overflow_contents > div > a')\n",
    "    \n",
    "    for a in authors:\n",
    "\n",
    "        new_authors.append(a.text)\n",
    "\n",
    "    prices=bs.select('#shopData_list > ul > li > div.prod_area.horizontal > div.prod_info_box > div.prod_price > span.price > span.val')\n",
    "\n",
    "    for p in prices:\n",
    "\n",
    "        new_price.append(p.text)  "
   ]
  },
  {
   "cell_type": "code",
   "execution_count": 6,
   "metadata": {},
   "outputs": [
    {
     "name": "stdout",
     "output_type": "stream",
     "text": [
      "5 권 검색\n",
      "==================================================\n",
      "자바 최적화(Optimizing Java) - 김희성 - 37,800\n",
      "스프링 입문을 위한 자바 객체 지향의 원리와 이해 - 오명훈 - 20,700\n",
      "AWT/Swing 기반의 자바 GUI 프로그래밍 - 서민구 - 22,500\n",
      "바틱으로 보다: 자바, 인도네시아 이야기 - 이웅모 - 40,500\n",
      "구글 브레인 팀에게 배우는 딥러닝 with TensorFlow.js - 커틀린 투도세 - 43,200\n"
     ]
    }
   ],
   "source": [
    "books=list(zip(new_titles, new_authors, new_price))\n",
    "\n",
    "print(len(new_titles),'권 검색')\n",
    "\n",
    "print('='*50)\n",
    "\n",
    "for book in books:\n",
    "\n",
    "    print(book[0],'-',book[1],'-',book[2])"
   ]
  },
  {
   "cell_type": "code",
   "execution_count": 7,
   "metadata": {},
   "outputs": [
    {
     "data": {
      "text/html": [
       "<div>\n",
       "<style scoped>\n",
       "    .dataframe tbody tr th:only-of-type {\n",
       "        vertical-align: middle;\n",
       "    }\n",
       "\n",
       "    .dataframe tbody tr th {\n",
       "        vertical-align: top;\n",
       "    }\n",
       "\n",
       "    .dataframe thead th {\n",
       "        text-align: right;\n",
       "    }\n",
       "</style>\n",
       "<table border=\"1\" class=\"dataframe\">\n",
       "  <thead>\n",
       "    <tr style=\"text-align: right;\">\n",
       "      <th></th>\n",
       "      <th>도서명</th>\n",
       "      <th>저자</th>\n",
       "      <th>정가</th>\n",
       "    </tr>\n",
       "  </thead>\n",
       "  <tbody>\n",
       "    <tr>\n",
       "      <th>0</th>\n",
       "      <td>자바 최적화(Optimizing Java)</td>\n",
       "      <td>김희성</td>\n",
       "      <td>37,800</td>\n",
       "    </tr>\n",
       "    <tr>\n",
       "      <th>1</th>\n",
       "      <td>스프링 입문을 위한 자바 객체 지향의 원리와 이해</td>\n",
       "      <td>오명훈</td>\n",
       "      <td>20,700</td>\n",
       "    </tr>\n",
       "    <tr>\n",
       "      <th>2</th>\n",
       "      <td>AWT/Swing 기반의 자바 GUI 프로그래밍</td>\n",
       "      <td>서민구</td>\n",
       "      <td>22,500</td>\n",
       "    </tr>\n",
       "    <tr>\n",
       "      <th>3</th>\n",
       "      <td>바틱으로 보다: 자바, 인도네시아 이야기</td>\n",
       "      <td>이웅모</td>\n",
       "      <td>40,500</td>\n",
       "    </tr>\n",
       "    <tr>\n",
       "      <th>4</th>\n",
       "      <td>구글 브레인 팀에게 배우는 딥러닝 with TensorFlow.js</td>\n",
       "      <td>커틀린 투도세</td>\n",
       "      <td>43,200</td>\n",
       "    </tr>\n",
       "  </tbody>\n",
       "</table>\n",
       "</div>"
      ],
      "text/plain": [
       "                                     도서명       저자      정가\n",
       "0                자바 최적화(Optimizing Java)      김희성  37,800\n",
       "1            스프링 입문을 위한 자바 객체 지향의 원리와 이해      오명훈  20,700\n",
       "2             AWT/Swing 기반의 자바 GUI 프로그래밍      서민구  22,500\n",
       "3                 바틱으로 보다: 자바, 인도네시아 이야기      이웅모  40,500\n",
       "4  구글 브레인 팀에게 배우는 딥러닝 with TensorFlow.js  커틀린 투도세  43,200"
      ]
     },
     "execution_count": 7,
     "metadata": {},
     "output_type": "execute_result"
    }
   ],
   "source": [
    "import pandas as pd\n",
    "\n",
    "df=pd.DataFrame(books,columns=['도서명','저자','정가'])\n",
    "\n",
    "df.head()"
   ]
  },
  {
   "cell_type": "code",
   "execution_count": 8,
   "metadata": {},
   "outputs": [],
   "source": [
    "df.to_csv('c:/data/book/data.csv',encoding='utf-8',index=False)"
   ]
  }
 ],
 "metadata": {
  "kernelspec": {
   "display_name": "Python 3",
   "language": "python",
   "name": "python3"
  },
  "language_info": {
   "codemirror_mode": {
    "name": "ipython",
    "version": 3
   },
   "file_extension": ".py",
   "mimetype": "text/x-python",
   "name": "python",
   "nbconvert_exporter": "python",
   "pygments_lexer": "ipython3",
   "version": "3.12.1"
  }
 },
 "nbformat": 4,
 "nbformat_minor": 2
}
