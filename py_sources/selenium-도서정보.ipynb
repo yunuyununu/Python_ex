{
 "cells": [
  {
   "cell_type": "code",
   "execution_count": null,
   "metadata": {},
   "outputs": [],
   "source": [
    "from selenium import webdriver\n",
    "from selenium.webdriver.chrome.options import Options\n",
    "import subprocess\n",
    "from webdriver_manager.chrome import ChromeDriverManager\n",
    "from selenium.webdriver.chrome.service import Service\n",
    "\n",
    "\n",
    "subprocess.Popen(r'C:\\Program Files\\Google\\Chrome\\Application\\chrome.exe --remote-debugging-port=9222 --user-data-dir=\"C:\\chromeCookie\"')\n",
    "url = \"https://www.naver.com\"\n",
    "\n",
    "\n",
    "option = Options()\n",
    "option.add_experimental_option(\"debuggerAddress\", \"127.0.0.1:9222\")\n",
    "driver = webdriver.Chrome(service=Service(ChromeDriverManager().install()), options=option)\n",
    "driver.maximize_window()\n",
    "driver.get(url)\n",
    "\n"
   ]
  },
  {
   "cell_type": "code",
   "execution_count": null,
   "metadata": {},
   "outputs": [],
   "source": [
    "import time\n",
    "\n",
    "from selenium.webdriver.common.keys import Keys\n",
    "\n",
    "driver.get(\"https://www.kyobobook.co.kr/\")\n",
    "\n",
    "time.sleep(1)\n",
    "\n",
    "keyword='자바'\n",
    "\n",
    "driver.find_element('xpath','//*[@id=\"searchKeyword\"]').send_keys(keyword)\n",
    "\n",
    "driver.find_element('xpath','//*[@id=\"searchKeyword\"]').send_keys(Keys.RETURN)"
   ]
  },
  {
   "cell_type": "code",
   "execution_count": null,
   "metadata": {},
   "outputs": [],
   "source": [
    "#도서명\n",
    "\n",
    "titles=[]\n",
    "\n",
    "for i in range(1,21):\n",
    "\n",
    "    title=driver.find_element('xpath',f'//*[@id=\"shopData_list\"]/ul/li[{i}]/div[1]/div[2]/div[2]/div[1]/div/a').text\n",
    "\n",
    "    titles.append(title)"
   ]
  },
  {
   "cell_type": "code",
   "execution_count": null,
   "metadata": {},
   "outputs": [],
   "source": [
    "titles"
   ]
  },
  {
   "cell_type": "code",
   "execution_count": null,
   "metadata": {},
   "outputs": [],
   "source": [
    "import time\n",
    "\n",
    "driver.get(\"https://product.kyobobook.co.kr/bestseller/total?period=004\")\n",
    "\n",
    "time.sleep(3)"
   ]
  },
  {
   "cell_type": "code",
   "execution_count": null,
   "metadata": {},
   "outputs": [],
   "source": [
    "#더보기\n",
    "\n",
    "driver.find_element('xpath','//*[@id=\"contents\"]/div[2]/div/div[1]/button').click()"
   ]
  },
  {
   "cell_type": "code",
   "execution_count": null,
   "metadata": {},
   "outputs": [],
   "source": [
    "time.sleep(1)\n",
    "\n",
    "# 기술/컴퓨터\n",
    "driver.find_element('xpath','//*[@id=\"classificationList\"]/ul/li[25]/button').click()\n",
    "\n",
    " \n",
    "\n",
    "time.sleep(5)"
   ]
  },
  {
   "cell_type": "code",
   "execution_count": null,
   "metadata": {},
   "outputs": [],
   "source": [
    "items=[]\n",
    "\n",
    "#페이지링크\n",
    "\n",
    "while True:\n",
    "\n",
    "    try:\n",
    "\n",
    "        for j in range(1,11):\n",
    "\n",
    "            print(j)\n",
    "\n",
    "            book=driver.find_element('xpath',f'//*[@id=\"tabRoot\"]/div[3]/ol[1]/li[{j}]/div[2]/div[2]/div[3]/div/div/a').text\n",
    "\n",
    "            time.sleep(1)\n",
    "\n",
    "            items.append(book)\n",
    "\n",
    "        for j in range(1,11):\n",
    "\n",
    "            print(j)\n",
    "\n",
    "            book=driver.find_element('xpath',f'//*[@id=\"tabRoot\"]/div[3]/ol[2]/li[{j}]/div[2]/div[2]/div[3]/div/div/a').text                                                          \n",
    "\n",
    "            time.sleep(1)\n",
    "\n",
    "            items.append(book)\n",
    "\n",
    "            \n",
    "\n",
    "        #다음페이지 버튼\n",
    "        driver.find_element('xpath',f'//*[@id=\"tabRoot\"]/div[2]/div[1]/button[2]').click()                                                    \n",
    "\n",
    "        time.sleep(5)\n",
    "\n",
    "    except:\n",
    "\n",
    "        break\n",
    "\n",
    "items "
   ]
  },
  {
   "cell_type": "code",
   "execution_count": null,
   "metadata": {},
   "outputs": [],
   "source": [
    "import pandas as pd\n",
    "\n",
    "df=pd.DataFrame(items)\n",
    "\n",
    "df.columns=['제목']\n",
    "\n",
    "df.to_csv('c:/data/kyobo-it-best.csv',index=False,encoding='utf-8')"
   ]
  },
  {
   "cell_type": "code",
   "execution_count": null,
   "metadata": {},
   "outputs": [],
   "source": [
    "#크롬 브라우저 종료\n",
    "\n",
    "driver.quit()"
   ]
  },
  {
   "cell_type": "code",
   "execution_count": null,
   "metadata": {},
   "outputs": [],
   "source": [
    "f = open('c:/data/kyobo-it-best.csv',encoding='utf-8')\n",
    "\n",
    "lines = f.readlines()\n",
    "\n",
    "print(lines)\n",
    "\n",
    "f.close()"
   ]
  },
  {
   "cell_type": "code",
   "execution_count": null,
   "metadata": {},
   "outputs": [],
   "source": [
    "from multiprocessing.resource_sharer import stop\n",
    "\n",
    "from konlpy.tag import Hannanum\n",
    "han = Hannanum() #한나눔 패키지\n",
    "\n",
    " \n",
    "\n",
    "temp = []\n",
    "\n",
    "for i in range(1,len(lines)):\n",
    "\n",
    "    #명사만 추출\n",
    "\n",
    "    a=lines[i].strip()\n",
    "\n",
    "    temp.append(han.nouns(a))\n",
    "\n",
    " \n",
    "\n",
    "temp "
   ]
  },
  {
   "cell_type": "code",
   "execution_count": null,
   "metadata": {},
   "outputs": [],
   "source": [
    "# 2차원 리스트를 1차원 리스트로 변환하는 함수\n",
    "\n",
    "def flatten(items):\n",
    "\n",
    "    flatList = []\n",
    "\n",
    "    for elem in items:\n",
    "\n",
    "        if type(elem) == list:\n",
    "\n",
    "            for e in elem:\n",
    "\n",
    "                flatList.append(e)\n",
    "\n",
    "        else:\n",
    "\n",
    "            flatList.append(elem)\n",
    "\n",
    "    return flatList\n",
    "\n",
    " \n",
    "\n",
    "word_list=flatten(temp)\n",
    "\n",
    "word_list"
   ]
  },
  {
   "cell_type": "code",
   "execution_count": null,
   "metadata": {},
   "outputs": [],
   "source": [
    "# 두글자 이상인 단어만 추출\n",
    "\n",
    "word_list=pd.Series([x for x in word_list if len(x)>1])\n",
    "\n",
    "word_list"
   ]
  },
  {
   "cell_type": "code",
   "execution_count": null,
   "metadata": {},
   "outputs": [],
   "source": []
  }
 ],
 "metadata": {
  "kernelspec": {
   "display_name": "Python 3",
   "language": "python",
   "name": "python3"
  },
  "language_info": {
   "codemirror_mode": {
    "name": "ipython",
    "version": 3
   },
   "file_extension": ".py",
   "mimetype": "text/x-python",
   "name": "python",
   "nbconvert_exporter": "python",
   "pygments_lexer": "ipython3",
   "version": "3.12.1"
  }
 },
 "nbformat": 4,
 "nbformat_minor": 2
}
