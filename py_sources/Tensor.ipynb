{
 "cells": [
  {
   "cell_type": "code",
   "execution_count": 1,
   "metadata": {},
   "outputs": [
    {
     "name": "stdout",
     "output_type": "stream",
     "text": [
      "tensor([[1, 2],\n",
      "        [3, 4]], dtype=torch.int32)\n",
      "tensor([[1, 2],\n",
      "        [3, 4]], dtype=torch.int32)\n",
      "tensor([[1, 2],\n",
      "        [3, 4]], dtype=torch.int32)\n"
     ]
    }
   ],
   "source": [
    "import numpy as np\n",
    "\n",
    "import torch\n",
    "\n",
    "li = np.array([[1, 2], [3, 4]])\n",
    "\n",
    "#넘파이배열을 텐서로 변환\n",
    "\n",
    "tensor1 = torch.tensor(li)\n",
    "\n",
    "tensor2 = torch.as_tensor(li)\n",
    "\n",
    "tensor3 = torch.from_numpy(li)\n",
    "\n",
    "print(tensor1)\n",
    "\n",
    "print(tensor2)\n",
    "\n",
    "print(tensor3)"
   ]
  },
  {
   "cell_type": "code",
   "execution_count": 2,
   "metadata": {},
   "outputs": [
    {
     "name": "stdout",
     "output_type": "stream",
     "text": [
      "[[1 2]\n",
      " [3 4]]\n",
      "[[1 2]\n",
      " [3 4]]\n",
      "[[1 2]\n",
      " [3 4]]\n"
     ]
    }
   ],
   "source": [
    "#텐서를 넘파이배열로 변환\n",
    "\n",
    "print(tensor1.numpy())\n",
    "\n",
    "print(tensor2.numpy())\n",
    "\n",
    "print(tensor3.numpy())"
   ]
  },
  {
   "cell_type": "code",
   "execution_count": 3,
   "metadata": {},
   "outputs": [
    {
     "name": "stdout",
     "output_type": "stream",
     "text": [
      "tensor([0.4963, 0.7682, 0.0885, 0.1320, 0.3074])\n",
      "tensor([ 0.5507,  0.2704,  0.6472,  0.2490, -0.3354])\n",
      "tensor([8, 4, 3, 6, 9])\n"
     ]
    }
   ],
   "source": [
    "torch.manual_seed(0) #랜덤시드 고정\n",
    "\n",
    "a = torch.rand(5) # 0 ~ 1 사이의 5개의 난수\n",
    "\n",
    "b = torch.randn(5) # 평균 0, 표준편차 1인 5개의 난수\n",
    "\n",
    "c = torch.randint(10, size=(5,)) # 0~9 사이의 5개의 난수\n",
    "\n",
    "print(a)\n",
    "\n",
    "print(b)\n",
    "\n",
    "print(c)"
   ]
  },
  {
   "cell_type": "code",
   "execution_count": 4,
   "metadata": {},
   "outputs": [
    {
     "name": "stdout",
     "output_type": "stream",
     "text": [
      "tensor([1, 2, 3, 4, 5, 6, 7, 8, 9])\n",
      "tensor([[1., 1., 1., 1., 1.],\n",
      "        [1., 1., 1., 1., 1.]])\n",
      "tensor([[0., 0., 0., 0., 0.],\n",
      "        [0., 0., 0., 0., 0.],\n",
      "        [0., 0., 0., 0., 0.]])\n",
      "tensor([ 0.0000,  2.5000,  5.0000,  7.5000, 10.0000])\n"
     ]
    }
   ],
   "source": [
    "print(torch.arange(1, 10)) # 1~9\n",
    "\n",
    "print(torch.ones((2, 5))) # 2행 5열, 1로 채움\n",
    "\n",
    "print(torch.zeros((3, 5))) #3행 5열, 0으로 채움\n",
    "\n",
    "print(torch.linspace(0, 10, 5)) # 0~10, 5등분"
   ]
  },
  {
   "cell_type": "code",
   "execution_count": 5,
   "metadata": {},
   "outputs": [
    {
     "name": "stdout",
     "output_type": "stream",
     "text": [
      "tensor([[1., 1., 1.],\n",
      "        [1., 1., 1.],\n",
      "        [1., 1., 1.],\n",
      "        [1., 1., 1.]])\n",
      "tensor([[1., 1., 1., 1.],\n",
      "        [1., 1., 1., 1.],\n",
      "        [1., 1., 1., 1.]])\n",
      "tensor([1., 1., 1., 1., 1., 1., 1., 1., 1., 1., 1., 1.])\n"
     ]
    }
   ],
   "source": [
    "#텐서의 형상 변환(reshape)\n",
    "\n",
    "t1 = torch.ones(4, 3)\n",
    "\n",
    "t2 = t1.view(3, 4) #3행 4열로 변환\n",
    "\n",
    "t3 = t1.view(12) #1차원 배열로 변환\n",
    "\n",
    "print(t1)\n",
    "\n",
    "print(t2)\n",
    "\n",
    "print(t3)"
   ]
  },
  {
   "cell_type": "code",
   "execution_count": 6,
   "metadata": {},
   "outputs": [
    {
     "data": {
      "text/plain": [
       "tensor([[[1., 1., 1., 1.],\n",
       "         [1., 1., 1., 1.],\n",
       "         [1., 1., 1., 1.]]])"
      ]
     },
     "execution_count": 6,
     "metadata": {},
     "output_type": "execute_result"
    }
   ],
   "source": [
    "t1.view(1, 3, 4) #3차원으로 변환"
   ]
  }
 ],
 "metadata": {
  "kernelspec": {
   "display_name": "Python 3",
   "language": "python",
   "name": "python3"
  },
  "language_info": {
   "codemirror_mode": {
    "name": "ipython",
    "version": 3
   },
   "file_extension": ".py",
   "mimetype": "text/x-python",
   "name": "python",
   "nbconvert_exporter": "python",
   "pygments_lexer": "ipython3",
   "version": "3.9.13"
  }
 },
 "nbformat": 4,
 "nbformat_minor": 2
}
