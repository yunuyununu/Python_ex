{
 "cells": [
  {
   "cell_type": "code",
   "execution_count": 1,
   "metadata": {},
   "outputs": [
    {
     "name": "stdout",
     "output_type": "stream",
     "text": [
      "Anna\n",
      "Pavlovna Scherer\n",
      "Empress Marya\n",
      "Fedorovna\n",
      "Prince Vasili Kuragin\n",
      "Anna Pavlovna\n",
      "St. Petersburg\n",
      "the prince\n",
      "Anna Pavlovna\n",
      "Anna Pavlovna\n",
      "the prince\n",
      "the prince\n",
      "the prince\n",
      "Prince Vasili\n",
      "Anna Pavlovna\n",
      "Anna Pavlovna\n",
      "the prince\n",
      "Wintzingerode\n",
      "King of Prussia\n",
      "le Vicomte de Mortemart\n",
      "Montmorencys\n",
      "Rohans\n",
      "Abbe Morio\n",
      "the Emperor\n",
      "the prince\n",
      "Prince Vasili\n",
      "Dowager Empress Marya Fedorovna\n",
      "the baron\n",
      "Anna Pavlovna\n",
      "the Empress\n",
      "the Empress\n",
      "Anna Pavlovna's\n",
      "Her Majesty\n",
      "Baron\n",
      "Funke\n",
      "The prince\n",
      "Anna\n",
      "Pavlovna\n",
      "the Empress\n",
      "The prince\n",
      "Anatole\n",
      "the prince\n",
      "The prince\n",
      "Anna\n",
      "Pavlovna\n",
      "Anna Pavlovna\n"
     ]
    }
   ],
   "source": [
    "from urllib.request import urlopen\n",
    "\n",
    "from bs4 import BeautifulSoup\n",
    "\n",
    "html=urlopen('http://www.pythonscraping.com/pages/warandpeace.html')\n",
    "\n",
    "bs=BeautifulSoup(html,'html.parser')\n",
    "\n",
    "nameList=bs.find_all('span',{'class':'green'})\n",
    "\n",
    "for name in nameList:\n",
    "\n",
    "    print(name.text)"
   ]
  },
  {
   "cell_type": "code",
   "execution_count": 2,
   "metadata": {},
   "outputs": [
    {
     "name": "stdout",
     "output_type": "stream",
     "text": [
      "<h1>War and Peace</h1>\n",
      "<h2>Chapter 1</h2>\n",
      "[<h1>War and Peace</h1>, <h2>Chapter 1</h2>]\n"
     ]
    }
   ],
   "source": [
    "titles=bs.find_all(['h1','h2','h3','h4','h5','h6'])\n",
    "\n",
    "for title in titles:\n",
    "\n",
    "    print(title)\n",
    "\n",
    " \n",
    "\n",
    "print([title for title in titles])"
   ]
  },
  {
   "cell_type": "code",
   "execution_count": 3,
   "metadata": {},
   "outputs": [
    {
     "name": "stdout",
     "output_type": "stream",
     "text": [
      "[\"Well, Prince, so Genoa and Lucca are now just family estates of the\\nBuonapartes. But I warn you, if you don't tell me that this means war,\\nif you still try to defend the infamies and horrors perpetrated by\\nthat Antichrist- I really believe he is Antichrist- I will have\\nnothing more to do with you and you are no longer my friend, no longer\\nmy 'faithful slave,' as you call yourself! But how do you do? I see\\nI have frightened you- sit down and tell me all the news.\", 'Anna\\nPavlovna Scherer', 'Empress Marya\\nFedorovna', 'Prince Vasili Kuragin', 'Anna Pavlovna', 'St. Petersburg', 'If you have nothing better to do, Count [or Prince], and if the\\nprospect of spending an evening with a poor invalid is not too\\nterrible, I shall be very charmed to see you tonight between 7 and 10-\\nAnnette Scherer.', 'Heavens! what a virulent attack!', 'the prince', 'Anna Pavlovna', \"First of all, dear friend, tell me how you are. Set your friend's\\nmind at rest,\", 'Can one be well while suffering morally? Can one be calm in times\\nlike these if one has any feeling?', 'Anna Pavlovna', 'You are\\nstaying the whole evening, I hope?', \"And the fete at the English ambassador's? Today is Wednesday. I\\nmust put in an appearance there,\", 'the prince', 'My daughter is\\ncoming for me to take me there.', \"I thought today's fete had been canceled. I confess all these\\nfestivities and fireworks are becoming wearisome.\", 'If they had known that you wished it, the entertainment would\\nhave been put off,', 'the prince', \"Don't tease! Well, and what has been decided about Novosiltsev's\\ndispatch? You know everything.\", 'What can one say about it?', 'the prince', 'What has been decided? They have decided that\\nBuonaparte has burnt his boats, and I believe that we are ready to\\nburn ours.', 'Prince Vasili', 'Anna Pavlovna', 'Anna Pavlovna', \"Oh, don't speak to me of Austria. Perhaps I don't understand\\nthings, but Austria never has wished, and does not wish, for war.\\nShe is betraying us! Russia alone must save Europe. Our gracious\\nsovereign recognizes his high vocation and will be true to it. That is\\nthe one thing I have faith in! Our good and wonderful sovereign has to\\nperform the noblest role on earth, and he is so virtuous and noble\\nthat God will not forsake him. He will fulfill his vocation and\\ncrush the hydra of revolution, which has become more terrible than\\never in the person of this murderer and villain! We alone must\\navenge the blood of the just one.... Whom, I ask you, can we rely\\non?... England with her commercial spirit will not and cannot\\nunderstand the Emperor Alexander's loftiness of soul. She has\\nrefused to evacuate Malta. She wanted to find, and still seeks, some\\nsecret motive in our actions. What answer did Novosiltsev get? None.\\nThe English have not understood and cannot understand the\\nself-abnegation of our Emperor who wants nothing for himself, but only\\ndesires the good of mankind. And what have they promised? Nothing! And\\nwhat little they have promised they will not perform! Prussia has\\nalways declared that Buonaparte is invincible, and that all Europe\\nis powerless before him.... And I don't believe a word that Hardenburg\\nsays, or Haugwitz either. This famous Prussian neutrality is just a\\ntrap. I have faith only in God and the lofty destiny of our adored\\nmonarch. He will save Europe!\", 'I think,', 'the prince', \"that if you had been\\nsent instead of our dear Wintzingerode you would have captured the\\nKing of Prussia's consent by assault. You are so eloquent. Will you\\ngive me a cup of tea?\", 'Wintzingerode', 'King of Prussia', 'In a moment. A propos,', 'I am\\nexpecting two very interesting men tonight, le Vicomte de Mortemart,\\nwho is connected with the Montmorencys through the Rohans, one of\\nthe best French families. He is one of the genuine emigres, the good\\nones. And also the Abbe Morio. Do you know that profound thinker? He\\nhas been received by the Emperor. Had you heard?', 'le Vicomte de Mortemart', 'Montmorencys', 'Rohans', 'Abbe Morio', 'the Emperor', 'I shall be delighted to meet them,', 'the prince', 'But tell me,', 'is it true that the Dowager Empress wants Baron Funke\\nto be appointed first secretary at Vienna? The baron by all accounts\\nis a poor creature.', 'Prince Vasili', 'Dowager Empress Marya Fedorovna', 'the baron', 'Anna Pavlovna', 'the Empress', 'Baron Funke has been recommended to the Dowager Empress by her\\nsister,', 'the Empress', \"Anna Pavlovna's\", 'Her Majesty', 'Baron\\nFunke', 'The prince', 'Anna\\nPavlovna', 'the Empress', 'Now about your family. Do you know that since your daughter came\\nout everyone has been enraptured by her? They say she is amazingly\\nbeautiful.', 'The prince', 'I often think,', \"I often think how unfairly sometimes the\\njoys of life are distributed. Why has fate given you two such splendid\\nchildren? I don't speak of Anatole, your youngest. I don't like\\nhim,\", 'Anatole', \"Two such charming children. And really you appreciate\\nthem less than anyone, and so you don't deserve to have them.\", \"I can't help it,\", 'the prince', 'Lavater would have said I\\nlack the bump of paternity.', \"Don't joke; I mean to have a serious talk with you. Do you know I\\nam dissatisfied with your younger son? Between ourselves\", \"he was mentioned at Her\\nMajesty's and you were pitied....\", 'The prince', 'What would you have me do?', 'You know I did all\\na father could for their education, and they have both turned out\\nfools. Hippolyte is at least a quiet fool, but Anatole is an active\\none. That is the only difference between them.', 'And why are children born to such men as you? If you were not a\\nfather there would be nothing I could reproach you with,', 'Anna\\nPavlovna', \"I am your faithful slave and to you alone I can confess that my\\nchildren are the bane of my life. It is the cross I have to bear. That\\nis how I explain it to myself. It can't be helped!\", 'Anna Pavlovna']\n"
     ]
    }
   ],
   "source": [
    "allText=bs.find_all('span',{'class':{'green','red'}})\n",
    "\n",
    "print([text.text for text in allText])"
   ]
  },
  {
   "cell_type": "code",
   "execution_count": 4,
   "metadata": {},
   "outputs": [
    {
     "name": "stdout",
     "output_type": "stream",
     "text": [
      "['the prince', 'the prince', 'the prince', 'the prince', 'the prince', 'the prince', 'the prince']\n"
     ]
    },
    {
     "name": "stderr",
     "output_type": "stream",
     "text": [
      "C:\\Users\\user\\AppData\\Local\\Temp\\ipykernel_5524\\4126306378.py:1: DeprecationWarning: The 'text' argument to find()-type methods is deprecated. Use 'string' instead.\n",
      "  nameList=bs.find_all(text='the prince')\n"
     ]
    },
    {
     "data": {
      "text/plain": [
       "7"
      ]
     },
     "execution_count": 4,
     "metadata": {},
     "output_type": "execute_result"
    }
   ],
   "source": [
    "nameList=bs.find_all(text='the prince')\n",
    "\n",
    "print(nameList)\n",
    "\n",
    "len(nameList)"
   ]
  },
  {
   "cell_type": "code",
   "execution_count": 5,
   "metadata": {},
   "outputs": [
    {
     "name": "stdout",
     "output_type": "stream",
     "text": [
      "[{'fruit': 'apple'}, {'fruit': 'banana'}, {'fruit': 'pear'}]\n",
      "{'fruit': 'banana'}\n",
      "1\n",
      "pear\n"
     ]
    }
   ],
   "source": [
    "import json\n",
    "a='''\n",
    "\n",
    "{\"amount\":[{\"num\":0},{\"num\":1},{\"num\":2}],\n",
    "\n",
    "   \"fruits\":[{\"fruit\":\"apple\"},{\"fruit\":\"banana\"},\n",
    "\n",
    "              {\"fruit\":\"pear\"}]}\n",
    "\n",
    "'''\n",
    "\n",
    "obj=json.loads(a)\n",
    "\n",
    "print(obj.get('fruits'))\n",
    "\n",
    "print(obj.get('fruits')[1])\n",
    "\n",
    "print(obj.get('amount')[1].get('num'))\n",
    "\n",
    "print(obj.get('fruits')[2].get('fruit'))"
   ]
  },
  {
   "cell_type": "code",
   "execution_count": 7,
   "metadata": {},
   "outputs": [
    {
     "name": "stdout",
     "output_type": "stream",
     "text": [
      "저장되었습니다.\n"
     ]
    }
   ],
   "source": [
    "import csv\n",
    "\n",
    "from urllib.request import urlopen\n",
    "\n",
    "from bs4 import BeautifulSoup\n",
    "\n",
    "html=urlopen('https://en.wikipedia.org/wiki/Comparison_of_text_editors')\n",
    "\n",
    "bs=BeautifulSoup(html,'html.parser')\n",
    "\n",
    "table=bs.find_all('table',{'class','wikitable'})[0]\n",
    "\n",
    "rows=table.find_all('tr')\n",
    "\n",
    "csvFile=open('c:/data/csv/editors.csv','w',newline='',encoding='utf-8')\n",
    "\n",
    "writer=csv.writer(csvFile)\n",
    "\n",
    "try:\n",
    "\n",
    "    for row in rows:\n",
    "\n",
    "        csvRow=[]\n",
    "\n",
    "        for cell in row.find_all(['td','th']):\n",
    "\n",
    "            csvRow.append(cell.text.strip())\n",
    "\n",
    "        writer.writerow(csvRow)\n",
    "\n",
    "finally:\n",
    "\n",
    "    print('저장되었습니다.')        \n",
    "\n",
    "    csvFile.close()"
   ]
  },
  {
   "cell_type": "code",
   "execution_count": null,
   "metadata": {},
   "outputs": [],
   "source": []
  },
  {
   "cell_type": "code",
   "execution_count": null,
   "metadata": {},
   "outputs": [],
   "source": []
  },
  {
   "cell_type": "code",
   "execution_count": null,
   "metadata": {},
   "outputs": [],
   "source": []
  },
  {
   "cell_type": "code",
   "execution_count": null,
   "metadata": {},
   "outputs": [],
   "source": []
  },
  {
   "cell_type": "code",
   "execution_count": null,
   "metadata": {},
   "outputs": [],
   "source": []
  },
  {
   "cell_type": "code",
   "execution_count": null,
   "metadata": {},
   "outputs": [],
   "source": []
  },
  {
   "cell_type": "code",
   "execution_count": null,
   "metadata": {},
   "outputs": [],
   "source": []
  }
 ],
 "metadata": {
  "kernelspec": {
   "display_name": "Python 3",
   "language": "python",
   "name": "python3"
  },
  "language_info": {
   "codemirror_mode": {
    "name": "ipython",
    "version": 3
   },
   "file_extension": ".py",
   "mimetype": "text/x-python",
   "name": "python",
   "nbconvert_exporter": "python",
   "pygments_lexer": "ipython3",
   "version": "3.12.1"
  }
 },
 "nbformat": 4,
 "nbformat_minor": 2
}
